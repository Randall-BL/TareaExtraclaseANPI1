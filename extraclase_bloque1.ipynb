{
 "cells": [
  {
   "cell_type": "markdown",
   "id": "a4f89e39-52f4-441e-bea1-5e47f54883d2",
   "metadata": {
    "kernel": "SoS"
   },
   "source": [
    "<h1 style=\"text-align: center;\"><strong>Ejercicios Extraclase - Avance 1</strong></h1>\n",
    "\n",
    "\n",
    "<ul>\n",
    "<li><strong>Curso:</strong> CE-1111: Análisis Númerico para Ingeniería</li>\n",
    "<li><strong>Estudiante 1:</strong> Emanuel Chavarría Hernández </li>\n",
    "    <li><strong>Estudiante 2:</strong> Randall Bolaños López</li>\n",
    "</ul>"
   ]
  },
  {
   "cell_type": "markdown",
   "id": "b1cfa1fb-9a9b-46cc-b0b2-d28e91c46518",
   "metadata": {
    "kernel": "SoS"
   },
   "source": [
    "<p style=\"text-align: justify;\">\n",
    "<strong>Pregunta 1:</strong> Durante las lecciones del 18, 20 y 25 de febrero, se proporcionó una breve explicación sobre el uso de GNU Octave con el paquete Symbolic y Python con las librerías Numpy, Sympy y Matplotlib, con el objetivo de emplearlos en este curso. En esta pregunta, deberán copiar y pegar el código visto en clase en el cuaderno <i>extraclase_bloque1.ipynb</i>, tanto el código de GNU Octave como el de Python. Para ello, utilicen el sistema SoS, que permite ejecutar múltiples lenguajes de programación en los cuadernos de <i>Jupyter</i>.\n",
    "</p>\n"
   ]
  },
  {
   "cell_type": "markdown",
   "id": "54e4351f-00db-4e47-8d30-b0ef70315bdf",
   "metadata": {
    "kernel": "SoS"
   },
   "source": [
    "Código GNU Octave"
   ]
  },
  {
   "cell_type": "markdown",
   "id": "1aac2ff6-d5b1-4da6-b4c6-d4c522d7c418",
   "metadata": {
    "kernel": "SoS"
   },
   "source": [
    "Código para el correcto funcionamiento de la graficación por medio de GNU Octave}"
   ]
  },
  {
   "cell_type": "code",
   "execution_count": 4,
   "id": "1e31f8ec-d021-4789-b8fb-617374f703b2",
   "metadata": {
    "kernel": "Octave"
   },
   "outputs": [],
   "source": [
    "graphics_toolkit('gnuplot'); %Necesario para el funcionamiento de la graficación en Jupyter"
   ]
  },
  {
   "cell_type": "markdown",
   "id": "bebd0ea1-c7af-4fe8-835b-fbd4be2592af",
   "metadata": {
    "kernel": "SoS"
   },
   "source": [
    "<p>Lección del 18 febrero \n",
    "</p>\n",
    "<strong>Archivo:</strong> cuadratica.m"
   ]
  },
  {
   "cell_type": "code",
   "execution_count": 14,
   "id": "bff8db22-d903-4ece-a3f5-ff3e7b5600fc",
   "metadata": {
    "kernel": "Octave",
    "scrolled": true
   },
   "outputs": [
    {
     "name": "stdout",
     "output_type": "stream",
     "text": [
      "   2   1\n"
     ]
    }
   ],
   "source": [
    "function x=cuadratica(a,b,c)\n",
    "  %Encuentra la solucion de la ecuacion\n",
    "  %ax^2+bx+c=0\n",
    "  %x es un vector que contiene las soluciones\n",
    "\n",
    "  disc=discriminante(a,b,c);\n",
    "  x1=(-b+sqrt(disc))/(2*a);\n",
    "  x2=(-b-sqrt(disc))/(2*a);\n",
    "  x=[x1 x2];\n",
    "end\n",
    "\n",
    "function d=discriminante(a,b,c)\n",
    "  d=b^2-4*a*c;\n",
    "end\n",
    "\n",
    "%Linea agregada para probar la función\n",
    "disp(cuadratica(1,-3,2))"
   ]
  },
  {
   "cell_type": "markdown",
   "id": "745ecdfa-f61f-4e60-9a1f-631e7907df8f",
   "metadata": {
    "kernel": "SoS"
   },
   "source": [
    "<strong>Archivo:</strong> ejemplo_cuadratica.m"
   ]
  },
  {
   "cell_type": "code",
   "execution_count": 17,
   "id": "46eab0e2-c326-45ce-bf90-d47502a2b772",
   "metadata": {
    "kernel": "Octave"
   },
   "outputs": [
    {
     "name": "stdout",
     "output_type": "stream",
     "text": [
      "La solucion es 2 y -3\n"
     ]
    }
   ],
   "source": [
    "function ejemplo_cuadratica()\n",
    "%funciones de ejemplos numericos\n",
    "%que sirve para ejecutar ejemplos\n",
    "%especificos, y las funciones de codigo\n",
    "%que resuelven un problema, se encuentran\n",
    "%debajo de esta funcion\n",
    "  clc; clear; close all\n",
    "  a=1; b=1; c=-6;\n",
    "  x=cuad(a,b,c);\n",
    "  disp(['La solucion es ', num2str(x(1)), ' y ' , num2str(x(2))])\n",
    "end\n",
    "\n",
    "function x=cuad(a,b,c)\n",
    "  %Encuentra la solucion de la ecuacion\n",
    "  %ax^2+bx+c=0\n",
    "  %x es un vector que contiene las soluciones\n",
    "\n",
    "  disc=discriminante(a,b,c);\n",
    "  x1=(-b+sqrt(disc))/(2*a);\n",
    "  x2=(-b-sqrt(disc))/(2*a);\n",
    "  x=[x1 x2];\n",
    "end\n",
    "\n",
    "function d=discriminante(a,b,c)\n",
    "  d=b^2-4*a*c;\n",
    "end\n",
    "\n",
    "%Linea agregada para probar la función\n",
    "ejemplo_cuadratica()"
   ]
  },
  {
   "cell_type": "markdown",
   "id": "35c7bf18-4811-423a-bad4-6fbd23643077",
   "metadata": {
    "kernel": "SoS"
   },
   "source": [
    "<strong>Archivo:</strong> ejemplo1.m"
   ]
  },
  {
   "cell_type": "code",
   "execution_count": 23,
   "id": "7c5b2f6d-bc6d-4bd3-a8b1-f8d780f1b941",
   "metadata": {
    "kernel": "Octave",
    "scrolled": true
   },
   "outputs": [
    {
     "name": "stdout",
     "output_type": "stream",
     "text": [
      "A =\n",
      "\n",
      " Columns 1 through 6:\n",
      "\n",
      "   9.1429e-01   3.9092e-01   6.0390e-01   7.4191e-01   9.0948e-01   7.3907e-01\n",
      "   7.9452e-01   8.4768e-01   8.6633e-01   8.0801e-01   5.5090e-01   7.5566e-01\n",
      "   1.0636e-01   6.4910e-01   8.4944e-01   3.6621e-01   6.6610e-03   2.0506e-01\n",
      "   2.5626e-01   8.4655e-02   9.3631e-01   6.3588e-01   3.6680e-01   9.4436e-01\n",
      "   7.3138e-01   1.0287e-02   7.2791e-01   2.3573e-02   4.1145e-03   6.6762e-01\n",
      "   8.4266e-01   6.1440e-01   1.5231e-01   4.7153e-02   6.0180e-01   5.9952e-01\n",
      "   6.5018e-01   8.7017e-01   9.5123e-01   5.9322e-01   8.7525e-01   2.8230e-01\n",
      "   1.3258e-01   7.3785e-01   7.6768e-01   2.1954e-01   5.4197e-01   7.7565e-01\n",
      "   9.0409e-01   7.5168e-01   3.3017e-01   4.6093e-01   1.5303e-01   1.5595e-02\n",
      "   8.9378e-01   5.0822e-01   4.2591e-01   1.8615e-01   3.4382e-01   7.9799e-01\n",
      "\n",
      " Columns 7 through 12:\n",
      "\n",
      "   6.7774e-02   1.7981e-01   7.5330e-01   5.0662e-01   4.7309e-01   3.9289e-01\n",
      "   1.2665e-01   8.7705e-01   2.1465e-01   2.1399e-01   2.0552e-01   5.1635e-01\n",
      "   3.2450e-01   6.6709e-01   4.9389e-01   9.5908e-01   9.1829e-01   2.3390e-01\n",
      "   3.6834e-02   7.6044e-02   1.1192e-01   5.1775e-01   4.4791e-01   6.0445e-01\n",
      "   4.0213e-01   3.7552e-01   9.8436e-01   8.3711e-01   3.6497e-01   2.9189e-01\n",
      "   5.7133e-02   2.3887e-01   4.5425e-01   5.1231e-01   8.2258e-01   6.5435e-02\n",
      "   4.7064e-01   3.5913e-01   5.0165e-03   6.8666e-01   6.5425e-03   9.2869e-01\n",
      "   7.2928e-01   6.7482e-01   4.2746e-01   6.8629e-01   9.0603e-01   7.8940e-02\n",
      "   3.3718e-01   6.5202e-02   4.3135e-03   8.0512e-01   2.6003e-01   4.0984e-01\n",
      "   7.8213e-01   3.9119e-01   1.9333e-01   3.9446e-01   8.1780e-01   5.0064e-04\n",
      "\n",
      " Columns 13 through 15:\n",
      "\n",
      "   5.5358e-01   1.1636e-01   9.2751e-02\n",
      "   6.8694e-01   7.2968e-01   6.0857e-01\n",
      "   3.9584e-01   7.9765e-01   2.5756e-01\n",
      "   9.9861e-01   2.9218e-01   2.1947e-01\n",
      "   8.2131e-01   2.9904e-01   1.6501e-01\n",
      "   9.6037e-01   8.7597e-01   6.7376e-01\n",
      "   2.9684e-01   1.4762e-01   5.1260e-01\n",
      "   1.8939e-01   7.2684e-01   6.0495e-02\n",
      "   9.4604e-01   3.4343e-01   2.0307e-02\n",
      "   4.0499e-01   6.9212e-01   4.6511e-01\n",
      "\n",
      "B =\n",
      "\n",
      " Columns 1 through 6:\n",
      "\n",
      "   1.8631e-01   1.6974e-01   4.3614e-01   8.2853e-01   6.5047e-01   1.7209e-01\n",
      "   4.4031e-01   6.4174e-01   8.6589e-01   7.5255e-01   2.6787e-01   4.6924e-01\n",
      "   4.9605e-02   1.0119e-02   3.9027e-01   5.0577e-01   4.8976e-02   2.7809e-01\n",
      "   5.0149e-01   8.1924e-01   9.7896e-01   7.7003e-04   7.7918e-01   4.4998e-01\n",
      "   5.4032e-02   7.2712e-01   5.9699e-01   5.2677e-01   3.8833e-01   7.3156e-01\n",
      "   8.3971e-01   3.1030e-01   8.1094e-01   8.0187e-01   8.6039e-01   4.5310e-01\n",
      "   9.6648e-01   8.7591e-01   4.8344e-01   8.8797e-01   1.3340e-01   2.3460e-02\n",
      "   1.4239e-01   2.0891e-01   2.2751e-01   9.2148e-01   9.6836e-01   2.4601e-02\n",
      "   3.1856e-01   8.7472e-01   5.6790e-01   9.9219e-01   9.1551e-01   9.2225e-01\n",
      "   4.7891e-01   8.1285e-01   9.7282e-01   2.7860e-01   8.8039e-01   7.0550e-01\n",
      "   9.4047e-01   3.1482e-01   9.5884e-01   3.7233e-01   8.5180e-01   5.3066e-02\n",
      "   9.9948e-01   9.9346e-01   5.6168e-01   7.3453e-01   9.9660e-02   6.7647e-01\n",
      "   1.6357e-01   1.8310e-01   7.0294e-01   7.3360e-01   3.9806e-01   3.0707e-01\n",
      "   7.8865e-01   7.0821e-01   2.1240e-01   9.4705e-01   1.0484e-01   9.7234e-02\n",
      "   8.7172e-01   4.7997e-01   2.3710e-01   6.0959e-01   8.2173e-02   2.2079e-01\n",
      "\n",
      " Columns 7 through 12:\n",
      "\n",
      "   4.4428e-01   3.2146e-02   1.4547e-01   5.1516e-01   1.8976e-01   3.3280e-01\n",
      "   4.4824e-01   3.9563e-01   2.8196e-01   1.5391e-02   7.0389e-01   9.7244e-02\n",
      "   6.7916e-01   3.7485e-01   2.3176e-01   9.0388e-01   1.6695e-01   8.4736e-02\n",
      "   6.2918e-01   5.1539e-01   2.0082e-01   2.0145e-01   4.6283e-01   7.6542e-01\n",
      "   8.1777e-01   2.4604e-01   6.4098e-01   4.9815e-01   1.7471e-01   9.5974e-01\n",
      "   1.6132e-01   8.4762e-01   6.4158e-01   1.4856e-01   5.7195e-01   6.0091e-01\n",
      "   9.1182e-01   8.2366e-01   3.4216e-01   7.0268e-01   7.6814e-01   8.5171e-01\n",
      "   6.6798e-01   8.4755e-02   5.3447e-01   8.2207e-01   7.6809e-01   5.0061e-01\n",
      "   5.4239e-01   4.5382e-01   3.4862e-01   7.7831e-01   9.4653e-01   8.8175e-01\n",
      "   6.3077e-01   4.9523e-01   4.6142e-01   5.5258e-01   1.4496e-01   5.3116e-01\n",
      "   5.0671e-01   3.8223e-01   4.3822e-01   3.5940e-01   6.1093e-01   1.7916e-02\n",
      "   7.6645e-01   9.5124e-01   3.3266e-01   9.2413e-01   3.0162e-01   4.1789e-01\n",
      "   3.1632e-01   2.9325e-01   9.4942e-01   5.3138e-01   9.2422e-01   9.7368e-01\n",
      "   8.6078e-01   5.6727e-02   7.3688e-01   2.6489e-01   5.6022e-01   2.8275e-01\n",
      "   2.9493e-01   3.8428e-01   6.6671e-01   6.1386e-01   3.5965e-01   2.9642e-01\n",
      "\n",
      " Columns 13 through 15:\n",
      "\n",
      "   9.4603e-01   8.8497e-01   1.5625e-01\n",
      "   7.9826e-01   7.4900e-01   8.2367e-02\n",
      "   7.0769e-03   5.4359e-01   1.0764e-01\n",
      "   5.1508e-01   7.9998e-01   9.1070e-01\n",
      "   6.3057e-01   8.8348e-01   3.9638e-01\n",
      "   2.6192e-03   1.1834e-01   2.9104e-01\n",
      "   2.8084e-01   2.3977e-01   9.5248e-01\n",
      "   4.2728e-01   9.5593e-01   8.6728e-01\n",
      "   8.9743e-01   3.0109e-01   7.2341e-01\n",
      "   9.3270e-01   8.4295e-01   2.7870e-01\n",
      "   4.3391e-01   8.3518e-01   6.3992e-01\n",
      "   4.0176e-01   2.4363e-01   5.7406e-01\n",
      "   7.1591e-01   1.2283e-01   1.2760e-01\n",
      "   2.8061e-01   9.7068e-01   2.3418e-01\n",
      "   4.4377e-01   5.4891e-01   3.3356e-01\n",
      "\n",
      "C =\n",
      "\n",
      " Columns 1 through 8:\n",
      "\n",
      "   3.0887   3.8458   4.9460   4.5815   4.2973   3.3936   4.0749   3.0660\n",
      "   3.9796   4.1528   5.0114   5.8461   4.1576   3.0343   4.8796   3.3066\n",
      "   3.7450   3.7294   4.5115   4.5511   3.8027   2.4408   4.3307   2.7996\n",
      "   3.2037   2.9915   4.3452   3.8125   3.2104   2.6140   3.4341   3.0950\n",
      "   3.0552   3.1860   4.0260   4.7690   3.8758   2.7008   3.6038   2.8422\n",
      "   3.7482   3.5584   4.5353   5.1988   3.8489   2.6131   3.8764   2.5018\n",
      "   3.5159   4.2678   4.6100   4.6623   3.0412   3.1761   4.6516   3.4208\n",
      "   4.0321   3.9720   4.7952   5.1053   4.0529   2.5850   4.6210   3.2211\n",
      "   2.5879   3.0153   3.9151   3.5928   2.7351   2.1275   3.2884   2.2165\n",
      "   4.0427   3.4343   4.3177   5.0572   3.6796   2.0302   4.0451   2.8566\n",
      "\n",
      " Columns 9 through 15:\n",
      "\n",
      "   3.2162   3.7119   3.4688   4.1314   4.2165   4.4794   3.0551\n",
      "   4.0987   4.3331   4.3435   4.1464   4.2658   5.5694   3.4470\n",
      "   3.3026   3.7568   3.8119   2.9372   3.6460   4.8260   3.1147\n",
      "   3.2851   3.3547   3.0523   3.4028   2.8356   3.3434   2.3761\n",
      "   3.1486   3.9787   3.6084   3.6340   3.6801   3.4672   2.6960\n",
      "   4.0417   3.3648   3.9622   3.5925   4.3132   4.7807   2.5040\n",
      "   3.1374   4.1869   3.0508   3.6660   3.9626   4.7548   2.9805\n",
      "   3.5493   3.7110   4.0765   3.4927   3.4848   4.8986   3.4247\n",
      "   2.5590   2.7643   2.7912   2.8625   3.7291   3.6492   1.9385\n",
      "   3.4310   3.3986   3.7716   3.3197   3.5428   4.5625   2.9920\n",
      "\n",
      "El numero es menor a 15\n",
      "vec1 =\n",
      "\n",
      " Columns 1 through 13:\n",
      "\n",
      "     1     2     3     4     5     6     7     8     9    10    11    12    13\n",
      "\n",
      " Columns 14 through 26:\n",
      "\n",
      "    14    15    16    17    18    19    20    21    22    23    24    25    26\n",
      "\n",
      " Columns 27 through 39:\n",
      "\n",
      "    27    28    29    30    31    32    33    34    35    36    37    38    39\n",
      "\n",
      " Columns 40 through 52:\n",
      "\n",
      "    40    41    42    43    44    45    46    47    48    49    50    51    52\n",
      "\n",
      " Columns 53 through 65:\n",
      "\n",
      "    53    54    55    56    57    58    59    60    61    62    63    64    65\n",
      "\n",
      " Columns 66 through 78:\n",
      "\n",
      "    66    67    68    69    70    71    72    73    74    75    76    77    78\n",
      "\n",
      " Columns 79 through 91:\n",
      "\n",
      "    79    80    81    82    83    84    85    86    87    88    89    90    91\n",
      "\n",
      " Columns 92 through 100:\n",
      "\n",
      "    92    93    94    95    96    97    98    99   100\n",
      "\n",
      "vec2 =\n",
      "\n",
      " Columns 1 through 13:\n",
      "\n",
      "     0     5    10    15    20    25    30    35    40    45    50    55    60\n",
      "\n",
      " Columns 14 through 21:\n",
      "\n",
      "    65    70    75    80    85    90    95   100\n",
      "\n",
      "vec3 = 2\n",
      "vec3 =\n",
      "\n",
      "   2   4\n",
      "\n",
      "vec3 =\n",
      "\n",
      "   2   4   8\n",
      "\n",
      "vec3 =\n",
      "\n",
      "    2    4    8   16\n",
      "\n",
      "vec3 =\n",
      "\n",
      "    2    4    8   16   32\n",
      "\n",
      "vec3 =\n",
      "\n",
      "    2    4    8   16   32   64\n",
      "\n",
      "vec3 =\n",
      "\n",
      "     2     4     8    16    32    64   128\n",
      "\n",
      "vec3 =\n",
      "\n",
      "     2     4     8    16    32    64   128   256\n",
      "\n",
      "vec3 =\n",
      "\n",
      "     2     4     8    16    32    64   128   256   512\n",
      "\n",
      "vec3 =\n",
      "\n",
      "      2      4      8     16     32     64    128    256    512   1024\n",
      "\n",
      "nFactorial = 5040\n"
     ]
    }
   ],
   "source": [
    "%Primer script en Octave\n",
    "\n",
    "%clc;    %Limpiar la ventana de comandos\n",
    "%clear;  %Limpiar las variables del sistema\n",
    "%close all %Cerrar todas las ventanas de graficos\n",
    "\n",
    "clc; clear; close all;\n",
    "\n",
    "A=rand(10,15) %Matriz aleatoria de 10x15\n",
    "B=rand(15,15) %Matriz aleatoria de 10x10\n",
    "C=A*B\n",
    "\n",
    "t=10;\n",
    "\n",
    "if t<15\n",
    "  disp('El numero es menor a 15')\n",
    "else\n",
    "  disp('El numero es mayor o igual a 15')\n",
    "end\n",
    "\n",
    "vect=[1 2 3 4 5 6 7 8 9 10];\n",
    "\n",
    "vect_trans=vect.'; %Calcula la transpuesta\n",
    "\n",
    "vec1=1:100 %Vector de numeros que inicia\n",
    "            %en 1 y llega hasta 100\n",
    "            %con saltos de 1\n",
    "\n",
    "vec2=0:5:100 %Vector de numeros que inicia\n",
    "            %en 0 y llega hasta 100\n",
    "            %con saltos de 5\n",
    "\n",
    "vec3=[];\n",
    "for k=1:10\n",
    "  vec3=[vec3 2^k]\n",
    "end\n",
    "\n",
    "\n",
    "n = 1;\n",
    "nFactorial = 1;\n",
    "while nFactorial < 1000\n",
    "  n = n + 1;\n",
    "  nFactorial = nFactorial * n;\n",
    "end\n",
    "nFactorial\n",
    "\n",
    "%Nota se modifico el documento, solamente para verficiar que toda la funcionalidad se \n",
    "%ejecuta correctamente en Jupyter\n"
   ]
  },
  {
   "cell_type": "markdown",
   "id": "3da132f1-e701-45ce-b21c-1c839388eb3b",
   "metadata": {
    "kernel": "SoS"
   },
   "source": [
    "Lección del 20 de febrero\n",
    "\n",
    "<strong>Archivo:</strong> ejemplo1.m"
   ]
  },
  {
   "cell_type": "code",
   "execution_count": 5,
   "id": "a46a2a97-15b7-4f6b-89e3-6cfe81c35ff3",
   "metadata": {
    "kernel": "Octave",
    "scrolled": true
   },
   "outputs": [
    {
     "name": "stdout",
     "output_type": "stream",
     "text": [
      "x = 1.4142\n",
      "y = -0.9589\n",
      "A =\n",
      "\n",
      "   0.945088   0.142711   0.135046   0.192403\n",
      "   0.539419   0.067253   0.802980   0.011221\n",
      "   0.901374   0.893513   0.074288   0.840720\n",
      "   0.308136   0.232154   0.972838   0.939758\n",
      "\n",
      "Ainv =\n",
      "\n",
      "   1.299298  -0.069517  -0.173785  -0.109714\n",
      "  -2.015718   1.447809   1.601724  -1.037517\n",
      "  -0.715360   1.192734  -0.012860   0.143724\n",
      "   0.812469  -1.569585  -0.325388   1.207598\n",
      "\n",
      "C =\n",
      "\n",
      "   1   0   0   0\n",
      "   0   1   0   0\n",
      "   0   0   1   0\n",
      "   0   0   0   1\n",
      "\n",
      "A =\n",
      "\n",
      "   5   1   0\n",
      "   1   5   1\n",
      "   0   1   5\n",
      "\n",
      "b =\n",
      "\n",
      "  -6\n",
      "  -7\n",
      "  -6\n",
      "\n",
      "x =\n",
      "\n",
      "  -1\n",
      "  -1\n",
      "  -1\n",
      "\n",
      "determinante = 115.00\n",
      "X =\n",
      "\n",
      "  -5.0000e-01   7.0711e-01   5.0000e-01\n",
      "   7.0711e-01  -2.3592e-16   7.0711e-01\n",
      "  -5.0000e-01  -7.0711e-01   5.0000e-01\n",
      "\n",
      "V =\n",
      "\n",
      "Diagonal Matrix\n",
      "\n",
      "   3.5858        0        0\n",
      "        0   5.0000        0\n",
      "        0        0   6.4142\n",
      "\n",
      "A =\n",
      "\n",
      "    1    2    3    5\n",
      "    1    5    4    3\n",
      "   -2   -4   -6  -10\n",
      "\n",
      "E =\n",
      "\n",
      "   1.0000        0   2.3333   6.3333\n",
      "        0   1.0000   0.3333  -0.6667\n",
      "        0        0        0        0\n",
      "\n",
      "fun =\n",
      "\n",
      "@(x) exp (x) - 2 * x - 10\n",
      "\n",
      "x0 = 3\n",
      "xsol = 0.6931\n",
      "fun =\n",
      "\n",
      "@(x) exp (x) - 2 * x - 10\n",
      "\n",
      "x0 = 3\n",
      "xsol = 2.7395\n",
      "xmin = 0.6931\n",
      "newfun =\n",
      "\n",
      "@(x) -1 * fun (x)\n",
      "\n",
      "fmaxbnd =\n",
      "\n",
      "@(newfun, a, b) fminbnd (newfun, a, b)\n",
      "\n",
      "xmax = 3.0000\n"
     ]
    }
   ],
   "source": [
    "% Ejemplos de cálculo numérico\n",
    "\n",
    "clc; clear; close all\n",
    "\n",
    "x=sqrt(2) % Raiz cuadrada\n",
    "y=sin(5) % Seno en radianes\n",
    "\n",
    "%format long %Más decimales\n",
    "%format short %Menos decimales\n",
    "\n",
    "% Matrices\n",
    "A=rand(4,4)\n",
    "Ainv=A^-1 %inv(A)\n",
    "C=round(A*Ainv)\n",
    "\n",
    "% Sistemas de Ecuaciones Ax=b\n",
    "A=[5 1 0;\n",
    "   1 5 1;\n",
    "   0 1 5] %A=[5 1 0;1 5 1;0 1 5]\n",
    "b=[-6;\n",
    "   -7;\n",
    "   -6] %b=[-6 -7 -6]\n",
    "\n",
    "x=mldivide(A,b) %x=A\\b\n",
    "\n",
    "determinante = det(A)\n",
    "%valores propios\n",
    "[X,V]=eig(A)\n",
    "\n",
    "%Matriz escalonada reducida\n",
    "A=[1 2 3 5; 1 5 4 3; -2 -4 -6 -10]\n",
    "E=rref(A)\n",
    "\n",
    "% Minimo de una función f(x)\n",
    "% necesitamos saber un valor\n",
    "% x0 cercano al minimo\n",
    "\n",
    "%Definir una funcion numerica en Octave\n",
    "fun=@(x) exp(x)-2*x- 10\n",
    "%Definir x0\n",
    "x0=3\n",
    "xsol=fminsearch(fun,x0)\n",
    "\n",
    "% Solucion de la ecuacion f(x)=0\n",
    "% necesitamos saber un valor\n",
    "% x0 cercano al cero\n",
    "\n",
    "%Definir una funcion numerica en Octave\n",
    "fun=@(x) exp(x)-2*x -10\n",
    "%Definir x0\n",
    "x0=3\n",
    "xsol=fzero(fun,x0)\n",
    "\n",
    "%Encontrar el minimo de una funcion\n",
    "%f(x) en un intervalo [a,b]\n",
    "a=-2;\n",
    "b=2;\n",
    "xmin=fminbnd(fun,a,b)\n",
    "\n",
    "%Calcular el maximo\n",
    "a=0;\n",
    "b=3;\n",
    "newfun=@(x) -1*fun(x)\n",
    "fmaxbnd=@(newfun,a,b) fminbnd(newfun,a,b)\n",
    "xmax=fmaxbnd(newfun,a,b)\n",
    "\n",
    "%Archivo minimamente modificado para mostar el correcto funcionamiento\n",
    "\n",
    "\n",
    "\n",
    "\n",
    "\n",
    "\n",
    "\n"
   ]
  },
  {
   "cell_type": "markdown",
   "id": "088c16c6-fe02-4597-ac5c-ffae6545e9a3",
   "metadata": {
    "kernel": "SoS"
   },
   "source": [
    "<strong>Archivo:</strong> ejemplo2.m"
   ]
  },
  {
   "cell_type": "code",
   "execution_count": 3,
   "id": "27062f84-5e9c-431d-8dcc-bee3c00bfa41",
   "metadata": {
    "kernel": "Octave",
    "scrolled": true
   },
   "outputs": [
    {
     "name": "stdout",
     "output_type": "stream",
     "text": [
      "Symbolic pkg v3.2.1: Python communication link active, SymPy v1.13.2.\n",
      "a = (sym) sin(x)\n",
      "b = (sym) cos(x)\n",
      "y = (sym) 1\n",
      "y = (sym) sin(x) + cos(x)\n",
      "z = 5\n",
      "z = -0.6753\n",
      "z = 0.1554\n",
      "z = 1.1428\n",
      "z = 1.3249\n",
      "z = 1.2134\n",
      "z = 1.2867\n",
      "z = 1.2402\n",
      "z = 1.2704\n",
      "z = 1.2511\n",
      "z = 1.2636\n",
      "f = (sym)\n",
      "\n",
      "    _______________\n",
      "  \\/ log(x)*sin(x) \n",
      "\n",
      "fd = (sym)\n",
      "\n",
      "    _______________ /log(x)*cos(x)   sin(x)\\\n",
      "  \\/ log(x)*sin(x) *|------------- + ------|\n",
      "                    \\      2          2*x  /\n",
      "  ------------------------------------------\n",
      "                log(x)*sin(x)               \n",
      "\n",
      "g = (sym)\n",
      "\n",
      "  sin(x)\n",
      "  ------\n",
      "    x   \n",
      "\n",
      "limite = (sym) 1\n"
     ]
    },
    {
     "data": {
      "image/png": "[encoded data removed]",
      "text/plain": [
       "<IPython.core.display.Image object>"
      ]
     },
     "metadata": {},
     "output_type": "display_data"
    }
   ],
   "source": [
    "%Ejemplos de calculo simbolico\n",
    "\n",
    "clc; clear; close all\n",
    "\n",
    "pkg load symbolic\n",
    "\n",
    "syms x\n",
    "a=sin(x)\n",
    "b=cos(x)\n",
    "y=simplify(a^2+b^2)\n",
    "\n",
    "%Evaluar en symbolic\n",
    "warning('off','all')\n",
    "y=cos(x)+sin(x)\n",
    "z=5\n",
    "for k=1:10\n",
    "  z=double(subs(y,z)) %Cambia de symbolic a numerico\n",
    "end\n",
    "\n",
    "%Derivar\n",
    "f=sqrt(sin(x)*log(x))\n",
    "fd=diff(f)\n",
    "\n",
    "%Limites\n",
    "g=sin(x)/x\n",
    "limite=limit(g,0)\n",
    "\n",
    "%graficar\n",
    "g=cos(x)+sin(x);\n",
    "\n",
    "\n",
    "ezplot(g,[-5 5])\n",
    "\n",
    "\n",
    "\n",
    "\n",
    "\n",
    "\n",
    "\n"
   ]
  },
  {
   "cell_type": "markdown",
   "id": "742d851f-f549-41a4-8015-ca3ba10ed1eb",
   "metadata": {
    "kernel": "SoS"
   },
   "source": [
    "<strong>Archivo:</strong> ejemplo3.m"
   ]
  },
  {
   "cell_type": "code",
   "execution_count": 10,
   "id": "782f7789-3b95-4362-8b5d-3c0a19e92eff",
   "metadata": {
    "kernel": "Octave",
    "scrolled": true
   },
   "outputs": [
    {
     "name": "stdout",
     "output_type": "stream",
     "text": [
      "f_text = exp(x)+4*x\n",
      "f_sym = (sym)\n",
      "\n",
      "         x\n",
      "  4*x + e \n",
      "\n",
      "f_num =\n",
      "\n",
      "@(x) exp (x) + 4 * x\n",
      "\n",
      "f_num2 =\n",
      "\n",
      "@(x) 4 * x + exp (x)\n",
      "\n"
     ]
    }
   ],
   "source": [
    "%Ejemplos de funciones numericas usando\n",
    "%simbolico y numerico\n",
    "\n",
    "clc; clear; close all\n",
    "\n",
    "pkg load symbolic\n",
    "\n",
    "syms x\n",
    "\n",
    "f_text='exp(x)+4*x'\n",
    "%Pasar de texto a simbolico\n",
    "f_sym = sym(f_text)\n",
    "%Pasar de texto a numerico\n",
    "f_num=str2func(['@(x)' f_text])\n",
    "%Pasar de simbolico a numerico\n",
    "f_num2=matlabFunction(f_sym)\n"
   ]
  },
  {
   "cell_type": "markdown",
   "id": "41935a60-7201-4f0e-9d5b-0e838ab7dd43",
   "metadata": {
    "kernel": "SoS"
   },
   "source": [
    "<strong>Archivo:</strong> ejemplo4.m"
   ]
  },
  {
   "cell_type": "code",
   "execution_count": 5,
   "id": "d5656c38-79c2-4042-ab00-7c9c4741c3a5",
   "metadata": {
    "kernel": "Octave",
    "scrolled": true
   },
   "outputs": [
    {
     "data": {
      "image/png": "[encoded data removed]",
      "text/plain": [
       "<IPython.core.display.Image object>"
      ]
     },
     "metadata": {},
     "output_type": "display_data"
    }
   ],
   "source": [
    "%Graficas numericas en Octave\n",
    "\n",
    "clc; clear; close all\n",
    "\n",
    "ejex=1:0.001:10; %[1 1.01 1.02 .... 9.98 9.99 10]\n",
    "ejey=cos(ejex);\n",
    "%stem(ejex,ejey) %Graficar pares ordenados\n",
    "\n",
    "plot(ejex,ejey,'r')\n",
    "title('Grafica de f(x)=cos(x)')\n",
    "xlabel('Eje x')\n",
    "ylabel('Eje y')\n"
   ]
  },
  {
   "cell_type": "markdown",
   "id": "ec8230ee-a5e7-4966-a6e0-cce4f8cd565c",
   "metadata": {
    "kernel": "SoS"
   },
   "source": [
    "Lección del 25 de febrero\n",
    "\n",
    "<strong>Archivo:</strong> div_t.m"
   ]
  },
  {
   "cell_type": "code",
   "execution_count": 19,
   "id": "222bb076-5338-4af6-b205-ff9531511178",
   "metadata": {
    "kernel": "Octave"
   },
   "outputs": [
    {
     "name": "stdout",
     "output_type": "stream",
     "text": [
      "ans = 0.5000\n"
     ]
    }
   ],
   "source": [
    "function y=div_t(a)\n",
    "\n",
    "  iterMax=250;\n",
    "  tol=1e-8;\n",
    "\n",
    "  xk_v=0.1;\n",
    "  for k=1:iterMax\n",
    "    xk=xk_v*(2-a*xk_v);\n",
    "    if abs(xk-xk_v)<tol*abs(xk)\n",
    "      break\n",
    "    end\n",
    "    xk_v=xk;\n",
    "  end\n",
    "  y=xk;\n",
    "end\n",
    "\n",
    "div_t(2) % Agregado para revisar funcionamiento del codigo"
   ]
  },
  {
   "cell_type": "markdown",
   "id": "7225b82b-2425-489a-bae1-c0a0da00bbda",
   "metadata": {
    "kernel": "Octave"
   },
   "source": [
    "<strong>Archivo:</strong> exp_t.m"
   ]
  },
  {
   "cell_type": "code",
   "execution_count": 23,
   "id": "713fe8ee-ee29-4965-ad3b-d01fbbc6896c",
   "metadata": {
    "kernel": "Octave"
   },
   "outputs": [],
   "source": [
    "function y=exp_t(a)\n",
    "\n",
    "  iterMax=2500;\n",
    "  tol=1e-10;\n",
    "\n",
    "  Sk_v=1;\n",
    "  for k=1:iterMax\n",
    "    Sk=Sk_v+a^k/factorial(k);\n",
    "    er=abs(Sk-Sk_v);\n",
    "    if er<tol\n",
    "      break\n",
    "    endif\n",
    "    Sk_v=Sk;\n",
    "  endfor\n",
    "  y=Sk;\n",
    "end"
   ]
  },
  {
   "cell_type": "markdown",
   "id": "35f9bd6d-d829-4049-818e-0d9c092eb828",
   "metadata": {
    "kernel": "SoS"
   },
   "source": [
    "Código Python"
   ]
  },
  {
   "cell_type": "markdown",
   "id": "ebf25308-36b4-4e4e-9cd0-f99441ee720f",
   "metadata": {
    "kernel": "Octave"
   },
   "source": [
    "Lección del 20 de febrero\n",
    "\n",
    "<strong>Archivo:</strong> ejemplo_octave_y_python.ipynb"
   ]
  },
  {
   "cell_type": "code",
   "execution_count": 7,
   "id": "b75719fe-a7c3-41b2-bfe1-187a5200c0fa",
   "metadata": {
    "kernel": "Python3"
   },
   "outputs": [
    {
     "name": "stdout",
     "output_type": "stream",
     "text": [
      "[[0.0283194  0.10938466 0.05953915 0.07169109 0.7397836 ]\n",
      " [0.39649539 0.7645917  0.65019984 0.77139299 0.35831992]\n",
      " [0.74838983 0.06239597 0.42289636 0.39797099 0.52738665]\n",
      " [0.48735632 0.78977157 0.899062   0.96299249 0.84693929]\n",
      " [0.06669769 0.35182869 0.07791835 0.6810351  0.14151117]]\n"
     ]
    }
   ],
   "source": [
    "import numpy as np\n",
    "print(np.random.rand(5,5))"
   ]
  },
  {
   "cell_type": "markdown",
   "id": "a4620169-f4fb-49d4-bba5-6619033de220",
   "metadata": {
    "kernel": "SoS"
   },
   "source": [
    "Lección del 25 de febrero\n",
    "\n",
    "<strong>Archivo:</strong> ejem_0.py"
   ]
  },
  {
   "cell_type": "code",
   "execution_count": 9,
   "id": "3de86451-79e7-4fcf-a270-c46f860c8d4f",
   "metadata": {
    "kernel": "Python3"
   },
   "outputs": [
    {
     "name": "stdout",
     "output_type": "stream",
     "text": [
      "El numero es menor a 15\n",
      "[[ 1]\n",
      " [ 2]\n",
      " [ 3]\n",
      " [ 4]\n",
      " [ 5]\n",
      " [ 6]\n",
      " [ 7]\n",
      " [ 8]\n",
      " [ 9]\n",
      " [10]]\n",
      "[  0.   2.   4.   8.  16.  32.  64. 128. 256. 512.]\n",
      "5040\n"
     ]
    }
   ],
   "source": [
    "import numpy as np\n",
    "\n",
    "# Generar matrices aleatorias\n",
    "A = np.random.rand(10, 15)\n",
    "B = np.random.rand(15, 15)\n",
    "C = np.dot(A, B)  # Multiplicación de matrices\n",
    "\n",
    "# Condicional\n",
    "t = 10\n",
    "if t < 15:\n",
    "    print('El numero es menor a 15')\n",
    "else:\n",
    "    print('El numero es mayor o igual a 15')\n",
    "\n",
    "# Definir vectores\n",
    "vect = np.array([1, 2, 3, 4, 5, 6, 7, 8, 9, 10])\n",
    "vect_trans = np.expand_dims(vect, axis=1)  # Calcular la transpuesta\n",
    "print(vect_trans)\n",
    "\n",
    "\n",
    "vec1 = np.arange(1, 101)  # Vector de 1 a 100 con paso de 1\n",
    "vec2 = np.arange(0, 101, 5)  # Vector de 0 a 100 con paso de 5\n",
    "\n",
    "# Generar vec3 con potencias de 2\n",
    "vec3 = np.array([2**k for k in range(1, 11)])\n",
    "\n",
    "vec4=np.zeros(10)\n",
    "\n",
    "for k in range(1, 10):\n",
    "    vec4[k]=2**k\n",
    "\n",
    "print(vec4)\n",
    "\n",
    "\n",
    "# Calcular el factorial de n mientras sea menor que 1000\n",
    "n = 1\n",
    "nFactorial = 1\n",
    "while nFactorial < 1000:\n",
    "    n += 1\n",
    "    nFactorial *= n\n",
    "\n",
    "print(nFactorial)"
   ]
  },
  {
   "cell_type": "markdown",
   "id": "f1c2d31d-6465-46bd-b6dc-514e44bf46e5",
   "metadata": {
    "kernel": "Octave"
   },
   "source": [
    "<strong>Archivo:</strong> ejem_1.py"
   ]
  },
  {
   "cell_type": "code",
   "execution_count": 10,
   "id": "38bee7cc-1025-4e66-8ccd-6c297f1f00bf",
   "metadata": {
    "kernel": "Python3"
   },
   "outputs": [
    {
     "name": "stdout",
     "output_type": "stream",
     "text": [
      "[-1.0, -1.0]\n"
     ]
    }
   ],
   "source": [
    "import math\n",
    "\n",
    "def discriminante(a, b, c):\n",
    "    return b**2 - 4*a*c\n",
    "\n",
    "def cuadratica(a, b, c):\n",
    "    # Encuentra la solución de la ecuación ax^2 + bx + c = 0\n",
    "    # Devuelve una lista con las soluciones\n",
    "    disc = discriminante(a, b, c)\n",
    "    x1 = (-b + math.sqrt(disc)) / (2 * a)\n",
    "    x2 = (-b - math.sqrt(disc)) / (2 * a)\n",
    "    return [x1, x2]\n",
    "\n",
    "print(cuadratica(1,2,1))"
   ]
  },
  {
   "cell_type": "markdown",
   "id": "412bfb7e-cad2-49a9-9400-96b62e2b60b3",
   "metadata": {
    "kernel": "Python 3 (ipykernel)"
   },
   "source": [
    "<strong>Archivo:</strong> ejem_2.py"
   ]
  },
  {
   "cell_type": "code",
   "execution_count": 12,
   "id": "ab8e3d70-2027-4d05-9399-f9d120da9e42",
   "metadata": {
    "kernel": "Python3"
   },
   "outputs": [
    {
     "name": "stdout",
     "output_type": "stream",
     "text": [
      "La solución es 2.0 y -3.0\n"
     ]
    }
   ],
   "source": [
    "import numpy as np\n",
    "\n",
    "def ejemplo_cuadratica():\n",
    "    \"\"\"\n",
    "    Función de ejemplo numérico que ejecuta un caso específico.\n",
    "    \"\"\"\n",
    "    a, b, c = 1, 1, -6\n",
    "    x = cuad(a, b, c)\n",
    "    print(f\"La solución es {x[0]} y {x[1]}\")\n",
    "\n",
    "def cuad(a, b, c):\n",
    "    \"\"\"\n",
    "    Encuentra la solución de la ecuación ax^2 + bx + c = 0.\n",
    "    Retorna un vector con las soluciones.\n",
    "    \"\"\"\n",
    "    disc = discriminante(a, b, c)\n",
    "    x1 = (-b + np.sqrt(disc)) / (2 * a)\n",
    "    x2 = (-b - np.sqrt(disc)) / (2 * a)\n",
    "    return [x1, x2]\n",
    "\n",
    "def discriminante(a, b, c):\n",
    "    \"\"\"\n",
    "    Calcula el discriminante de la ecuación cuadrática.\n",
    "    \"\"\"\n",
    "    return b**2 - 4 * a * c\n",
    "\n",
    "if __name__ == \"__main__\":\n",
    "    ejemplo_cuadratica()"
   ]
  },
  {
   "cell_type": "markdown",
   "id": "70ac5b93-46d0-4dbb-a1d7-be5659ad5b10",
   "metadata": {
    "kernel": "Python 3 (ipykernel)"
   },
   "source": [
    "<strong>Archivo:</strong> ejem_3.py"
   ]
  },
  {
   "cell_type": "code",
   "execution_count": 13,
   "id": "199d647c-9c81-4bd2-ae5e-35d13b6b39e2",
   "metadata": {
    "kernel": "Python3"
   },
   "outputs": [
    {
     "name": "stdout",
     "output_type": "stream",
     "text": [
      "[[ 1.  0. -0.  0.]\n",
      " [ 0.  1.  0.  0.]\n",
      " [-0.  0.  1.  0.]\n",
      " [ 0.  0.  0.  1.]]\n",
      "[-1. -1. -1.]\n",
      "[0.69316406]\n",
      "[2.73948193]\n",
      "0.6931472153780879\n",
      "2.9999965472915386\n"
     ]
    }
   ],
   "source": [
    "import numpy as np\n",
    "import scipy.linalg as la\n",
    "import scipy.optimize as opt\n",
    "\n",
    "# Ejemplos de cálculo numérico\n",
    "\n",
    "x = np.sqrt(2)  # Raíz cuadrada\n",
    "y = np.sin(5)  # Seno en radianes\n",
    "\n",
    "# Matrices\n",
    "A = np.random.rand(4, 4)\n",
    "Ainv = np.linalg.inv(A)  # Inversa de A\n",
    "C = np.round(A @ Ainv)  # Multiplicación matricial\n",
    "print(C)\n",
    "\n",
    "# Sistemas de Ecuaciones Ax=b\n",
    "A = np.array([[5, 1, 0],\n",
    "              [1, 5, 1],\n",
    "              [0, 1, 5]])\n",
    "b = np.array([-6, -7, -6])\n",
    "\n",
    "x = np.linalg.solve(A, b)  # Resolver Ax = b\n",
    "print(x)\n",
    "\n",
    "determinante = np.linalg.det(A)  # Determinante\n",
    "\n",
    "# Valores propios\n",
    "V, X = np.linalg.eig(A)\n",
    "\n",
    "# Matriz escalonada reducida\n",
    "A = np.array([[1, 2, 3, 5],\n",
    "              [1, 5, 4, 3],\n",
    "              [-2, -4, -6, -10]], dtype=float)\n",
    "E, _ = la.lu(A, permute_l=True)  # Aproximación a rref con LU\n",
    "\n",
    "# Mínimo de una función f(x)\n",
    "def fun(x):\n",
    "    return np.exp(x) - 2*x - 10\n",
    "\n",
    "x0 = 3\n",
    "xsol = opt.fmin(fun, x0, disp=False)  # Encontrar mínimo\n",
    "print(xsol)\n",
    "\n",
    "# Solución de la ecuación f(x) = 0\n",
    "xsol_root = opt.fsolve(fun, x0)\n",
    "print(xsol_root)\n",
    "\n",
    "# Encontrar el mínimo de una función f(x) en un intervalo [a, b]\n",
    "a, b = -2, 2\n",
    "xmin = opt.fminbound(fun, a, b)\n",
    "print(xmin)\n",
    "\n",
    "# Calcular el máximo\n",
    "def newfun(x):\n",
    "    return -fun(x)\n",
    "\n",
    "a, b = 0, 3\n",
    "xmax = opt.fminbound(newfun, a, b)\n",
    "print(xmax)\n"
   ]
  },
  {
   "cell_type": "markdown",
   "id": "272414e1-55a7-4fde-870d-155fcbc4baca",
   "metadata": {
    "kernel": "Python 3 (ipykernel)"
   },
   "source": [
    "<strong>Archivo:</strong> ejem_4.py"
   ]
  },
  {
   "cell_type": "code",
   "execution_count": 14,
   "id": "85dc08cf-1b29-49c7-aa9c-b1a532d4d758",
   "metadata": {
    "kernel": "Python3"
   },
   "outputs": [
    {
     "name": "stdout",
     "output_type": "stream",
     "text": [
      "-0.6752620891999122\n",
      "0.1554412353596678\n",
      "1.1427593465126127\n",
      "1.3248680061208318\n",
      "1.2133685556116345\n",
      "1.2866655862632395\n",
      "1.2402288390367395\n",
      "1.270438144390593\n",
      "1.2510929501252432\n",
      "1.2636136655130894\n",
      "sqrt(log(x)*sin(x))*(log(x)*cos(x)/2 + sin(x)/(2*x))/(log(x)*sin(x))\n"
     ]
    },
    {
     "data": {
      "image/png": "[encoded data removed]",
      "text/plain": [
       "<Figure size 640x480 with 1 Axes>"
      ]
     },
     "metadata": {},
     "output_type": "display_data"
    }
   ],
   "source": [
    "import sympy as sp\n",
    "import numpy as np\n",
    "import matplotlib.pyplot as plt\n",
    "\n",
    "# Definir la variable simbólica\n",
    "x = sp.symbols('x')\n",
    "\n",
    "a = sp.sin(x)\n",
    "b = sp.cos(x)\n",
    "y = sp.simplify(a**2 + b**2)\n",
    "\n",
    "# Evaluar en symbolic\n",
    "\n",
    "y = sp.cos(x) + sp.sin(x)\n",
    "z = 5\n",
    "for _ in range(10):\n",
    "    z = float(y.subs(x, z))  # Cambia de simbólico a numérico\n",
    "    print(z)\n",
    "\n",
    "# Derivar\n",
    "f = sp.sqrt(sp.sin(x) * sp.log(x))\n",
    "fd = sp.diff(f, x)\n",
    "print(fd)\n",
    "\n",
    "# Límites\n",
    "g = sp.sin(x) / x\n",
    "limite = sp.limit(g, x, 0)\n",
    "\n",
    "# Graficar\n",
    "g_func = sp.lambdify(x, sp.cos(x) + sp.sin(x), 'numpy')\n",
    "x_vals = np.linspace(-5, 5, 400)\n",
    "y_vals = g_func(x_vals)\n",
    "\n",
    "plt.plot(x_vals, y_vals, label='cos(x) + sin(x)')\n",
    "plt.axhline(0, color='black', linewidth=0.5)\n",
    "plt.axvline(0, color='black', linewidth=0.5)\n",
    "plt.legend()\n",
    "plt.grid()\n",
    "plt.show()\n"
   ]
  },
  {
   "cell_type": "markdown",
   "id": "1fa101b1-47cc-4034-bb3d-d946da1ea485",
   "metadata": {
    "kernel": "Python 3 (ipykernel)"
   },
   "source": [
    "<strong>Archivo:</strong> ejem_5.py"
   ]
  },
  {
   "cell_type": "code",
   "execution_count": 15,
   "id": "ad38c48b-d868-408e-9130-ccd6b7b1de9e",
   "metadata": {
    "kernel": "Python3"
   },
   "outputs": [
    {
     "name": "stdout",
     "output_type": "stream",
     "text": [
      "Simbólico: 4*x + exp(x)\n",
      "Numérico (desde texto): 6.718281828459045\n",
      "Numérico (desde simbólico): 6.718281828459045\n"
     ]
    }
   ],
   "source": [
    "import sympy as sp\n",
    "import numpy as np\n",
    "\n",
    "# Definir la variable simbólica\n",
    "x = sp.symbols('x')\n",
    "\n",
    "# Definir la función como texto\n",
    "f_text = 'exp(x) + 4*x'\n",
    "\n",
    "# Pasar de texto a simbólico\n",
    "f_sym = sp.sympify(f_text)\n",
    "print(\"Simbólico:\", f_sym)\n",
    "\n",
    "# Pasar de texto a numérico\n",
    "f_num = lambda x: eval(f_text, {\"x\": x, \"exp\": np.exp})\n",
    "print(\"Numérico (desde texto):\", f_num(1))\n",
    "\n",
    "# Pasar de simbólico a numérico\n",
    "f_num2 = sp.lambdify(x, f_sym, modules=['numpy'])\n",
    "print(\"Numérico (desde simbólico):\", f_num2(1))"
   ]
  },
  {
   "cell_type": "markdown",
   "id": "97f710dd-287d-49c4-b9a0-a87110216355",
   "metadata": {
    "kernel": "Python3"
   },
   "source": [
    "# Pregunta 2\n",
    "# Método Modificado de la Bisección\n",
    "\n",
    "El **método modificado de la bisección** se utiliza para resolver la ecuación \\( f(x) = 0 \\) en un intervalo \\([a, b]\\), siguiendo los siguientes pasos:\n",
    "\n",
    "1. Dividir el intervalo \\([a, b]\\) en \\( n \\) subintervalos de igual tamaño.  \n",
    "2. Para \\( k = 0, 1, 2, ..., n-1 \\):  \n",
    "   - Si \\( f(c_k) f(c_{k+1}) > 0 \\), el cero **no** se encuentra en \\([c_k, c_{k+1}]\\).  \n",
    "   - Si \\( f(c_k) f(c_{k+1}) < 0 \\), el cero **se encuentra** en \\([c_k, c_{k+1}]\\). Se selecciona este intervalo para la siguiente iteración.  \n",
    "3. Se repiten los pasos anteriores dentro del nuevo subintervalo encontrado, **volviendo a dividir en \\( n \\) subintervalos**, hasta alcanzar una tolerancia deseada o un número máximo de iteraciones.  \n",
    "\n",
    "La aproximación a la raíz en cada iteración se calcula como:  \n",
    "\\[\n",
    "x = \\frac{c_k + c_{k+1}}{2}\n",
    "\\]\n",
    "\n",
    "## Implementación en Python\n",
    "\n",
    "Implementa un script en **Python** para encontrar un cero de la función:\n",
    "\n",
    "\\[\n",
    "f(x) = \\sin^2(x) - x^2 + 1\n",
    "\\]\n",
    "\n",
    "utilizando una tolerancia de \\( 10^{-10} \\) y el **método modificado de la bisección** con \\( n = 10 \\).  \n",
    "\n",
    "La función debe llamarse:\n",
    "```python\n",
    "x = metodo_biseccion_mod(a, b, n, tol)"
   ]
  },
  {
   "cell_type": "code",
   "execution_count": 3,
   "id": "20102501-ccc2-49d5-adec-b4ee6e513256",
   "metadata": {
    "kernel": "Python 3 (ipykernel)"
   },
   "outputs": [
    {
     "name": "stdout",
     "output_type": "stream",
     "text": [
      "🔄 Iteración 1: Dividiendo [0, 2] en 10 subintervalos...\n",
      "✅ Cambio de signo en [1.4, 1.5999999999999999]. Refinando este intervalo...\n",
      "\n",
      "🔄 Iteración 2: Dividiendo [1.4, 2] en 10 subintervalos...\n",
      "✅ Cambio de signo en [1.4, 1.42]. Refinando este intervalo...\n",
      "\n",
      "🔄 Iteración 3: Dividiendo [1.4, 2] en 10 subintervalos...\n",
      "✅ Cambio de signo en [1.404, 1.406]. Refinando este intervalo...\n",
      "\n",
      "🔄 Iteración 4: Dividiendo [1.404, 2] en 10 subintervalos...\n",
      "✅ Cambio de signo en [1.4043999999999999, 1.4045999999999998]. Refinando este intervalo...\n",
      "\n",
      "🔄 Iteración 5: Dividiendo [1.4043999999999999, 2] en 10 subintervalos...\n",
      "✅ Cambio de signo en [1.4044799999999995, 1.4044999999999994]. Refinando este intervalo...\n",
      "\n",
      "🔄 Iteración 6: Dividiendo [1.4044799999999995, 2] en 10 subintervalos...\n",
      "✅ Cambio de signo en [1.4044899999999998, 1.4044919999999999]. Refinando este intervalo...\n",
      "\n",
      "🔄 Iteración 7: Dividiendo [1.4044899999999998, 2] en 10 subintervalos...\n",
      "✅ Cambio de signo en [1.4044916000000005, 1.4044918000000006]. Refinando este intervalo...\n",
      "\n",
      "🔄 Iteración 8: Dividiendo [1.4044916000000005, 2] en 10 subintervalos...\n",
      "✅ Cambio de signo en [1.4044916400000007, 1.4044916600000008]. Refinando este intervalo...\n",
      "\n",
      "🔄 Iteración 9: Dividiendo [1.4044916400000007, 2] en 10 subintervalos...\n",
      "✅ Cambio de signo en [1.4044916480000005, 1.4044916500000004]. Refinando este intervalo...\n",
      "\n",
      "🔄 Iteración 10: Dividiendo [1.4044916480000005, 2] en 10 subintervalos...\n",
      "✅ Cambio de signo en [1.4044916482000005, 1.4044916484000005]. Refinando este intervalo...\n",
      "\n",
      "🔄 Iteración 11: Dividiendo [1.4044916482000005, 2] en 10 subintervalos...\n",
      "✅ Cambio de signo en [1.4044916482000005, 1.4044916482200005]. Refinando este intervalo...\n",
      "\n",
      "\n",
      "🔹 Raíz aproximada encontrada después de 11 iteraciones: 1.4044916482100005\n"
     ]
    }
   ],
   "source": [
    "import numpy as np\n",
    "\n",
    "def f(x):\n",
    "    return np.sin(x)**2 - x**2 + 1\n",
    "\n",
    "def metodo_biseccion_mod(a, b, n, tol, max_iter=100):\n",
    "    c_k = a  # Punto inicial del intervalo\n",
    "    h = (b - a) / n  # Tamaño de cada subintervalo\n",
    "    \n",
    "    for iteracion in range(max_iter):  # Bucle de iteraciones máximas\n",
    "        print(f\"🔄 Iteración {iteracion+1}: Dividiendo [{c_k}, {b}] en {n} subintervalos...\")\n",
    "\n",
    "        # Primera división en n subintervalos para encontrar el cambio de signo\n",
    "        for k in range(n):\n",
    "            c_k1 = c_k + h  # Siguiente punto en la división\n",
    "            \n",
    "            if f(c_k) * f(c_k1) < 0:  # Se encontró un intervalo con cambio de signo\n",
    "                print(f\"✅ Cambio de signo en [{c_k}, {c_k1}]. Refinando este intervalo...\\n\")\n",
    "                break\n",
    "            c_k = c_k1  # Actualizar el inicio del intervalo\n",
    "        \n",
    "        # Nueva división del intervalo encontrado\n",
    "        h = (c_k1 - c_k) / n\n",
    "        \n",
    "        # Condición de parada\n",
    "        if abs(f((c_k + c_k1) / 2)) < tol or abs(c_k1 - c_k) < tol:\n",
    "            break  # Si se alcanza la precisión deseada, detenemos\n",
    "\n",
    "    raiz = (c_k + c_k1) / 2\n",
    "    print(f\"\\n🔹 Raíz aproximada encontrada después de {iteracion+1} iteraciones: {raiz}\")\n",
    "    return raiz\n",
    "\n",
    "# Parámetros\n",
    "a = 0\n",
    "b = 2\n",
    "n = 10\n",
    "tol = 1e-10\n",
    "max_iter = 100  # Límite de iteraciones\n",
    "\n",
    "# Llamada a la función\n",
    "raiz_aproximada = metodo_biseccion_mod(a, b, n, tol, max_iter)"
   ]
  },
  {
   "cell_type": "markdown",
   "id": "559ea30b-511b-48a9-add6-f4e0c0b942d6",
   "metadata": {
    "kernel": "Python 3 (ipykernel)"
   },
   "source": [
    "# Pregunta 4\n",
    "### Método de la Falsa Posición\n",
    "\n",
    "En la lección del 6 de marzo, se explicó el método de la falsa posición para aproximar una solución de la ecuación \\( f(x) = 0 \\). Implemente **un script en GNU Octave** el método de la falsa posición para aproximar una solución de la ecuación:  \n",
    "\n",
    "\\[\n",
    "\\ln(x^2) + \\sin(x) = \\sqrt{x}\n",
    "\\]\n",
    "\n",
    "con \\( \\text{max\\_it} = 10000 \\) y \\( tol = 10^{-15} \\). Cada grupo debe seleccionar valores iniciales que cumplan el Teorema de Bolzano. El programa debe mostrar como resultado:  \n",
    "\n",
    "- La aproximación obtenida para la solución \\( x_k \\).\n",
    "- El error de la función cometido en la última iteración \\( | f(x_k) | \\).\n",
    "- La cantidad total de iteraciones requeridas \\( k \\).\n"
   ]
  },
  {
   "cell_type": "code",
   "execution_count": 5,
   "id": "ca1884d9-12ac-47e2-9d44-a508572fc920",
   "metadata": {
    "kernel": "Octave"
   },
   "outputs": [
    {
     "name": "stdout",
     "output_type": "stream",
     "text": [
      "Aproximación de la raíz: xk = 1.590490274187475\n",
      "Error en la última iteración: |f(xk)| = 6.661338147750939e-16\n",
      "Total de iteraciones realizadas: 43\n"
     ]
    }
   ],
   "source": [
    "clc; clear; close all;\n",
    "\n",
    "% Definir la función f(x) = ln(x^2 + sin(x)) - sqrt(x)\n",
    "f = @(x) log(x.^2 + sin(x)) - sqrt(x);\n",
    "\n",
    "% Parámetros iniciales\n",
    "iterMax = 10000;\n",
    "tol = 1e-15;\n",
    "\n",
    "% Escoger un intervalo inicial adecuado usando el Teorema de Bolzano\n",
    "a = 0.5;\n",
    "b = 2;\n",
    "fa = f(a);\n",
    "fb = f(b);\n",
    "\n",
    "if fa * fb > 0\n",
    "    error('El intervalo [a, b] no garantiza la existencia de una raíz.');\n",
    "end\n",
    "\n",
    "% Método de la Falsa Posición\n",
    "iter = 0; % Contador de iteraciones\n",
    "error = Inf; % Inicialización del error\n",
    "xk_ant = a; % Valor inicial de xk\n",
    "\n",
    "while iter < iterMax\n",
    "    % Calcular la nueva aproximación de la raíz usando Regula Falsi\n",
    "    xk = (a * f(b) - b * f(a)) / (f(b) - f(a));\n",
    "    fxk = f(xk);\n",
    "    \n",
    "    % Calcular el error absoluto\n",
    "    error = abs(f(xk));\n",
    "    \n",
    "    % Verificar si la solución es suficientemente precisa\n",
    "    if abs(f(xk)) < tol\n",
    "        break;\n",
    "    end\n",
    "    \n",
    "    % Aplicar criterio de Bolzano para actualizar el intervalo\n",
    "    if f(a) * f(xk) < 0\n",
    "        b = xk;\n",
    "    else\n",
    "        a = xk;\n",
    "    end\n",
    "    \n",
    "    % Incrementar el contador de iteraciones\n",
    "    iter = iter + 1;\n",
    "    \n",
    "    % Verificar si se alcanzó el número máximo de iteraciones\n",
    "    if iter >= iterMax\n",
    "        fprintf(\"Se alcanzó el número máximo de iteraciones sin convergencia.\\n\");\n",
    "        break;\n",
    "    end\n",
    "end\n",
    "\n",
    "% Mostrar los resultados\n",
    "fprintf(\"Aproximación de la raíz: xk = %.15f\\n\", xk);\n",
    "fprintf(\"Error en la última iteración: |f(xk)| = %.15e\\n\", abs(f(xk)));\n",
    "fprintf(\"Total de iteraciones realizadas: %d\\n\", iter);\n"
   ]
  },
  {
   "cell_type": "code",
   "execution_count": null,
   "id": "94e2d7f9-5178-48ef-adf4-d20c7cac2128",
   "metadata": {
    "kernel": "Octave"
   },
   "outputs": [],
   "source": []
  }
 ],
 "metadata": {
  "kernelspec": {
   "display_name": "SoS",
   "language": "sos",
   "name": "sos"
  },
  "language_info": {
   "codemirror_mode": "sos",
   "file_extension": ".sos",
   "mimetype": "text/x-sos",
   "name": "sos",
   "nbconvert_exporter": "sos_notebook.converter.SoS_Exporter",
   "pygments_lexer": "sos"
  },
  "sos": {
   "kernels": [
    [
     "Octave",
     "octave",
     "Octave",
     "#dff8fb",
     ""
    ],
    [
     "Python 3 (ipykernel)",
     "python3",
     "python3",
     "",
     {
      "name": "ipython",
      "version": 3
     }
    ],
    [
     "Python3",
     "python3",
     "Python3",
     "#FFD91A",
     {
      "name": "ipython",
      "version": 3
     }
    ]
   ],
   "version": ""
  }
 },
 "nbformat": 4,
 "nbformat_minor": 5
}
