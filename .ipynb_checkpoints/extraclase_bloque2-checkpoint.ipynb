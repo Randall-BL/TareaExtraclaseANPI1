{
 "cells": [
  {
   "cell_type": "markdown",
   "id": "e38b8202-8a86-45a8-a2d5-dccff178590b",
   "metadata": {
    "kernel": "SoS"
   },
   "source": [
    "1. En la lección del 25 de marzo, estudiamos un teorema que permite determinar cuándo una matriz posee una única factorización LU. Dicho criterio establece que la factorización es única si y solo si todas las submatrices principales de la matriz son invertibles, es decir, si sus determinantes son distintos de cero.\n",
    "\n",
    "Sin embargo, también es posible caracterizar la invertibilidad de una matriz en términos de su rango, según la siguiente proposición:\n",
    "\n",
    "**Proposición**: Una matriz A ∈ ℝ^m×m es invertible si y solo si rango(A) = m.\n",
    "\n",
    "Con base en esta proposición, implemente la función `tf = tieneUnicaFactLU(A)` en Python. Esta función debe determinar si la matriz A tiene una única factorización LU. En caso afirmativo, la función debe devolver `tf = 1`; en caso contrario, debe devolver `tf = 0`. Además, la función debe verificar que A sea una matriz cuadrada antes de proceder con los cálculos. Finalmente, pruebe la función con dos matrices de tamaño 5×5, donde una tenga una única factorización LU y la otra no.\n",
    "\n"
   ]
  },
  {
   "cell_type": "code",
   "execution_count": 2,
   "id": "7c570735-b95d-4da3-9587-79ef03c8c3ab",
   "metadata": {
    "kernel": "Python 3 (ipykernel)"
   },
   "outputs": [
    {
     "name": "stdout",
     "output_type": "stream",
     "text": [
      "A1 tiene única factorización LU: 1\n",
      "A2 tiene única factorización LU: 0\n"
     ]
    }
   ],
   "source": [
    "import numpy as np\n",
    "\n",
    "def tieneUnicaFactLU(A):\n",
    "    # Verificar si la matriz es cuadrada\n",
    "    if A.shape[0] != A.shape[1]:\n",
    "        return 0\n",
    "    \n",
    "    n = A.shape[0]\n",
    "\n",
    "    # Verificar determinantes de submatrices principales\n",
    "    for k in range(1, n+1):\n",
    "        submatriz = A[:k, :k]\n",
    "        if np.linalg.det(submatriz) == 0:\n",
    "            return 0\n",
    "\n",
    "    return 1\n",
    "\n",
    "# Pruebas con dos matrices 5x5\n",
    "# Una con factorización LU única\n",
    "A1 = np.array([[2, 3, 1, 5, 4],\n",
    "               [4, 7, 2, 10, 8],\n",
    "               [6, 2, 8, 9, 7],\n",
    "               [1, 3, 2, 7, 6],\n",
    "               [3, 6, 5, 8, 9]])\n",
    "\n",
    "# Otra sin factorización LU única (ej. una fila depende de otras)\n",
    "A2 = np.array([[1, 2, 3, 4, 5],\n",
    "               [2, 4, 6, 8, 10],\n",
    "               [3, 6, 9, 12, 15],\n",
    "               [4, 8, 12, 16, 20],\n",
    "               [5, 10, 15, 20, 25]])\n",
    "\n",
    "# Resultados\n",
    "print(\"A1 tiene única factorización LU:\", tieneUnicaFactLU(A1))  # Debería devolver 1\n",
    "print(\"A2 tiene única factorización LU:\", tieneUnicaFactLU(A2))  # Debería devolver 0\n"
   ]
  },
  {
   "cell_type": "markdown",
   "id": "cad238be-2c54-41b3-941a-68a5dee426cb",
   "metadata": {
    "kernel": "SoS"
   },
   "source": [
    "Pregunta 2"
   ]
  },
  {
   "cell_type": "code",
   "execution_count": 3,
   "id": "2c183445-361d-42ce-b515-8adfd168a3a9",
   "metadata": {
    "kernel": "Python 3 (ipykernel)"
   },
   "outputs": [
    {
     "name": "stdout",
     "output_type": "stream",
     "text": [
      "Matriz Q:\n",
      "[[ 0.102  0.01   0.406  0.155 -0.101 -0.241 -0.263  0.207  0.693  0.374]\n",
      " [-0.153  0.209  0.542 -0.087  0.42   0.07  -0.322  0.307 -0.483  0.14 ]\n",
      " [ 0.051 -0.091  0.446  0.623 -0.274  0.14   0.233 -0.409 -0.261  0.135]\n",
      " [-0.204 -0.338 -0.278 -0.14  -0.25   0.189 -0.073  0.113 -0.216  0.764]\n",
      " [ 0.255  0.63  -0.041 -0.267 -0.433 -0.087 -0.33  -0.344 -0.154  0.139]\n",
      " [ 0.306 -0.034  0.213 -0.281 -0.05   0.848  0.046  0.032  0.227 -0.07 ]\n",
      " [-0.357  0.316  0.092 -0.25   0.373  0.01   0.482 -0.409  0.237  0.326]\n",
      " [ 0.408  0.422 -0.376  0.457  0.299  0.141  0.18   0.299 -0.023  0.272]\n",
      " [-0.459  0.37   0.074  0.05  -0.497  0.095  0.33   0.508  0.021 -0.146]\n",
      " [ 0.51  -0.142  0.25  -0.369 -0.106 -0.355  0.531  0.222 -0.2    0.111]]\n",
      "\n",
      "Matriz R:\n",
      "[[ 19.621 -11.314  11.416  -9.53   17.226 -17.634   5.096 -13.2     8.154\n",
      "   -4.536]\n",
      " [  0.     15.684 -13.825   8.682  -0.389   0.095   4.505   2.528   3.97\n",
      "  -11.943]\n",
      " [  0.      0.      4.851  -2.302   3.291   0.54   10.535  -9.555   4.492\n",
      "    8.794]\n",
      " [  0.      0.      0.     11.726  -8.518   7.024   0.486   0.619   7.043\n",
      "    7.309]\n",
      " [  0.      0.      0.      0.      7.598  -7.259  -4.681   0.011  -2.2\n",
      "   -1.605]\n",
      " [  0.      0.      0.      0.      0.      9.312  -8.66   10.19  -12.72\n",
      "    7.882]\n",
      " [  0.      0.      0.      0.      0.      0.     13.213 -11.765   5.097\n",
      "  -11.089]\n",
      " [  0.      0.      0.      0.      0.      0.      0.      7.101  -9.889\n",
      "   -2.808]\n",
      " [  0.      0.      0.      0.      0.      0.      0.      0.      1.886\n",
      "   -2.169]\n",
      " [  0.      0.      0.      0.      0.      0.      0.      0.      0.\n",
      "    7.4  ]]\n",
      "\n",
      "¿Q @ R es aproximadamente igual a A?: True\n"
     ]
    }
   ],
   "source": [
    "import numpy as np\n",
    "\n",
    "def fact_qr(A):\n",
    "    A = np.array(A, dtype=float)  # Convertir a float para evitar errores de tipo\n",
    "    m, n = A.shape\n",
    "    Q = np.zeros((m, n))\n",
    "    R = np.zeros((n, n))\n",
    "\n",
    "    for j in range(n):\n",
    "        v = A[:, j]\n",
    "        for i in range(j):\n",
    "            R[i, j] = np.dot(Q[:, i], A[:, j])\n",
    "            v = v - R[i, j] * Q[:, i]\n",
    "        R[j, j] = np.linalg.norm(v)\n",
    "        if R[j, j] == 0:\n",
    "            raise ValueError(\"Las columnas de A son linealmente dependientes.\")\n",
    "        Q[:, j] = v / R[j, j]\n",
    "\n",
    "    return Q, R\n",
    "\n",
    "# Definición de la matriz A (10x10)\n",
    "A = np.array([\n",
    "    [2, -1, 3, 0, 1, -2, 4, -3, 5, 6],\n",
    "    [-3, 5, -2, 1, 3, 0, -1, 4, -6, 7],\n",
    "    [1, -2, 4, 5, -5, 7, 8, -9, 10, 11],\n",
    "    [-4, -3, 1, -2, -5, 6, -7, 8, -9, 10],\n",
    "    [5, 7, -6, 0, 3, -4, 2, -1, 6, -5],\n",
    "    [6, -4, 5, -7, 8, 1, -3, 2, -9, 4],\n",
    "    [-7, 9, -8, 3, -1, 2, 5, -4, 3, -6],\n",
    "    [8, 2, -3, 6, 4, -5, 0, 1, 2, -7],\n",
    "    [-9, 11, -10, 8, -12, 13, 6, 7, -5, -6],\n",
    "    [10, -8, 9, -11, 12, -14, 15, -18, 7, -9]\n",
    "])\n",
    "\n",
    "# Cálculo de la factorización QR\n",
    "Q, R = fact_qr(A)\n",
    "\n",
    "# Mostrar resultados con formato\n",
    "np.set_printoptions(precision=3, suppress=True)\n",
    "print(\"Matriz Q:\")\n",
    "print(Q)\n",
    "\n",
    "print(\"\\nMatriz R:\")\n",
    "print(R)\n",
    "\n",
    "# Verificación de que Q @ R ≈ A\n",
    "print(\"\\n¿Q @ R es aproximadamente igual a A?:\", np.allclose(Q @ R, A))\n"
   ]
  },
  {
   "cell_type": "markdown",
   "id": "e0c10dfc-7136-415f-9d55-f80db1fd7b8f",
   "metadata": {
    "kernel": "SoS"
   },
   "source": [
    "Pregunta3"
   ]
  },
  {
   "cell_type": "code",
   "execution_count": 7,
   "id": "b8636f9a-85b3-45bd-9a33-48404c642b9d",
   "metadata": {
    "kernel": "Octave"
   },
   "outputs": [],
   "source": [
    "% Funciones para el método de Jacobi\n",
    "\n",
    "% ---------------------------------------------------------\n",
    "% Calcula el ángulo theta entre los elementos i y j de la matriz simétrica A\n",
    "function theta = angulo(A, i, j)\n",
    "  if abs(A(i,i) - A(j,j)) > 1e-16\n",
    "    theta = 0.5 * atan( (2 * A(i,j)) / (A(i,i) - A(j,j)) );\n",
    "  else\n",
    "    theta = 0;\n",
    "  end\n",
    "end\n",
    "\n",
    "% ---------------------------------------------------------\n",
    "% Crea la matriz de rotación G correspondiente al ángulo theta\n",
    "% para los índices i y j, en una matriz de tamaño m x m\n",
    "function G = matriz_rotacion(i, j, m, theta)\n",
    "  G = eye(m);  % Matriz identidad\n",
    "\n",
    "  % Solo modificamos 4 entradas para construir G = I + Z\n",
    "  G(i,i) = cos(theta);\n",
    "  G(j,j) = cos(theta);\n",
    "  if i != j\n",
    "    G(i,j) = -sin(theta);\n",
    "    G(j,i) = sin(theta);\n",
    "  end\n",
    "end\n",
    "\n",
    "\n"
   ]
  },
  {
   "cell_type": "code",
   "execution_count": null,
   "id": "78c0f8a6-9e8c-4532-987c-0773b9b85bb1",
   "metadata": {},
   "outputs": [],
   "source": []
  }
 ],
 "metadata": {
  "kernelspec": {
   "display_name": "SoS",
   "language": "sos",
   "name": "sos"
  },
  "language_info": {
   "codemirror_mode": "sos",
   "file_extension": ".sos",
   "mimetype": "text/x-sos",
   "name": "sos",
   "nbconvert_exporter": "sos_notebook.converter.SoS_Exporter",
   "pygments_lexer": "sos"
  },
  "sos": {
   "kernels": [
    [
     "Octave",
     "octave",
     "Octave",
     "#dff8fb",
     ""
    ],
    [
     "Python 3 (ipykernel)",
     "python3",
     "python3",
     "",
     {
      "name": "ipython",
      "version": 3
     }
    ]
   ],
   "version": ""
  }
 },
 "nbformat": 4,
 "nbformat_minor": 5
}
