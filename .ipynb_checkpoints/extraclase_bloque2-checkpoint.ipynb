{
 "cells": [
  {
   "cell_type": "markdown",
   "id": "e38b8202-8a86-45a8-a2d5-dccff178590b",
   "metadata": {
    "kernel": "SoS"
   },
   "source": [
    "<h1 style=\"text-align: center;\"><strong>Ejercicios Extraclase - Avance 2</strong></h1>\n",
    "\n",
    "\n",
    "<ul>\n",
    "<li><strong>Curso:</strong> CE-1111: Análisis Númerico para Ingeniería</li>\n",
    "<li><strong>Estudiante 1:</strong> Emanuel Chavarría Hernández </li>\n",
    "    <li><strong>Estudiante 2:</strong> Randall Bolaños López</li>\n",
    "</ul>\n",
    "\n",
    "\n"
   ]
  },
  {
   "cell_type": "markdown",
   "id": "9d44cb00-ae4a-4f0f-a633-4eedca7d72bf",
   "metadata": {
    "kernel": "SoS"
   },
   "source": [
    "<strong>Pregunta 1:</strong> En la lección del 25 de marzo, estudiamos un teorema que permite determinar cuándo una matriz posee una única factorización LU. Dicho criterio establece que la factorización es única si y solo si todas las submatrices principales de la matriz son invertibles, es decir, si sus determinantes son distintos de cero.\n",
    "\n",
    "Sin embargo, también es posible caracterizar la invertibilidad de una matriz en términos de su rango, según la siguiente proposición:\n",
    "\n",
    "                            Proposición: Una matriz A ∈ ℝ^m×m es invertible si y solo si rango(A) = m.\n",
    "\n",
    "Con base en esta proposición, implemente la función `tf = tieneUnicaFactLU(A)` en Python. Esta función debe determinar si la matriz A tiene una única factorización LU. En caso afirmativo, la función debe devolver `tf = 1`; en caso contrario, debe devolver `tf = 0`. Además, la función debe verificar que A sea una matriz cuadrada antes de proceder con los cálculos. Finalmente, pruebe la función con dos matrices de tamaño 5×5, donde una tenga una única factorización LU y la otra no.\n",
    "\n"
   ]
  },
  {
   "cell_type": "code",
   "execution_count": 2,
   "id": "7c570735-b95d-4da3-9587-79ef03c8c3ab",
   "metadata": {
    "kernel": "Python 3 (ipykernel)"
   },
   "outputs": [
    {
     "name": "stdout",
     "output_type": "stream",
     "text": [
      "A1 tiene única factorización LU: 1\n",
      "A2 tiene única factorización LU: 0\n"
     ]
    }
   ],
   "source": [
    "import numpy as np\n",
    "\n",
    "def tieneUnicaFactLU(A):\n",
    "    # Verificar si la matriz es cuadrada\n",
    "    if A.shape[0] != A.shape[1]:\n",
    "        return 0\n",
    "    \n",
    "    n = A.shape[0]\n",
    "\n",
    "    # Verificar determinantes de submatrices principales\n",
    "    for k in range(1, n+1):\n",
    "        submatriz = A[:k, :k]\n",
    "        if np.linalg.det(submatriz) == 0:\n",
    "            return 0\n",
    "\n",
    "    return 1\n",
    "\n",
    "# Pruebas con dos matrices 5x5\n",
    "# Una con factorización LU única\n",
    "A1 = np.array([[2, 3, 1, 5, 4],\n",
    "               [4, 7, 2, 10, 8],\n",
    "               [6, 2, 8, 9, 7],\n",
    "               [1, 3, 2, 7, 6],\n",
    "               [3, 6, 5, 8, 9]])\n",
    "\n",
    "# Otra sin factorización LU única (ej. una fila depende de otras)\n",
    "A2 = np.array([[1, 2, 3, 4, 5],\n",
    "               [2, 4, 6, 8, 10],\n",
    "               [3, 6, 9, 12, 15],\n",
    "               [4, 8, 12, 16, 20],\n",
    "               [5, 10, 15, 20, 25]])\n",
    "\n",
    "# Resultados\n",
    "print(\"A1 tiene única factorización LU:\", tieneUnicaFactLU(A1))  # Debería devolver 1\n",
    "print(\"A2 tiene única factorización LU:\", tieneUnicaFactLU(A2))  # Debería devolver 0\n"
   ]
  },
  {
   "cell_type": "markdown",
   "id": "cad238be-2c54-41b3-941a-68a5dee426cb",
   "metadata": {
    "kernel": "SoS"
   },
   "source": [
    "<strong>Pregunta 2:</strong> En la lección del 27 de marzo, se explicó el método Thomas para resolver el sistema de ecuaciones $Ax = b$, donde A es una matriz tridiagonal. Dicha información se encuentra en el documento `metodo thomas.pdf`. Implemente en GNU Octave o Python el método de Thomas, creando una función de la forma `x=thomas(A,b)`, donde x es la solución del sistema $Ax = b$. Luego resuelva el problema que se encuentra en la página 5 del documento `metodo thomas.pdf.`\n"
   ]
  },
  {
   "cell_type": "code",
   "execution_count": null,
   "id": "2a52ad1c-0972-4bf9-9a53-906f2e125d16",
   "metadata": {
    "kernel": "Python 3 (ipykernel)"
   },
   "outputs": [],
   "source": []
  },
  {
   "cell_type": "markdown",
   "id": "ac8fcd07-b7a0-45bc-b12e-1d49147ce744",
   "metadata": {
    "kernel": "Python 3 (ipykernel)"
   },
   "source": [
    "**Pregunta 3:** En la lección del 1° de abril, se explicó el método basado en la factorización $QR$ para resolver sistemas de ecuaciones. Sin embargo, no se explicó el método para obtener la factorización $QR$ de la matriz. En el documento `factorizacionQR.pdf` se explica el método basado en la ortogonalización de Gram-Schimidt para obtener la factorización $QR$ de una matriz $A$. Luego, implemente computacionalmente en Python dicho método, creando una función de la forma `[Q, R] = fact_qr(A)`, donde $A = QR$ es la factorización $QR$ de $A$. Luego, utilice dicha función para obtener la factorización $QR$ de la matriz:\n",
    "\n",
    "$$\n",
    "A = \\begin{bmatrix}\n",
    "2 & -1 & 3 & 0 & 1 & -2 & 4 & -3 & 5 & 6 \\\\\n",
    "-3 & -2 & 1 & 5 & -4 & 3 & -1 & 6 & 2 & -7 \\\\\n",
    "1 & -2 & -4 & 3 & 2 & 0 & 1 & 9 & -5 & 4 \\\\\n",
    "4 & -3 & 1 & 2 & -5 & -1 & 0 & 8 & 9 & -6 \\\\\n",
    "5 & 7 & -6 & 4 & 3 & 2 & 4 & 2 & 9 & 0 \\\\\n",
    "6 & -4 & 5 & -2 & -7 & 3 & 2 & -1 & 0 & 8 \\\\\n",
    "-7 & 9 & -6 & 1 & 4 & -8 & 0 & -2 & -3 & 1 \\\\\n",
    "-8 & -2 & 4 & 7 & -9 & 10 & 1 & -5 & -6 & -7 \\\\\n",
    "9 & 11 & -10 & 5 & 6 & -13 & -2 & -6 & 1 & 2 \\\\\n",
    "10 & -8 & 9 & -11 & 12 & -14 & -3 & -7 & 8 & 7\n",
    "\\end{bmatrix}\n",
    "$$\n"
   ]
  },
  {
   "cell_type": "code",
   "execution_count": 3,
   "id": "2c183445-361d-42ce-b515-8adfd168a3a9",
   "metadata": {
    "kernel": "Python 3 (ipykernel)"
   },
   "outputs": [
    {
     "name": "stdout",
     "output_type": "stream",
     "text": [
      "Matriz Q:\n",
      "[[ 0.102  0.01   0.406  0.155 -0.101 -0.241 -0.263  0.207  0.693  0.374]\n",
      " [-0.153  0.209  0.542 -0.087  0.42   0.07  -0.322  0.307 -0.483  0.14 ]\n",
      " [ 0.051 -0.091  0.446  0.623 -0.274  0.14   0.233 -0.409 -0.261  0.135]\n",
      " [-0.204 -0.338 -0.278 -0.14  -0.25   0.189 -0.073  0.113 -0.216  0.764]\n",
      " [ 0.255  0.63  -0.041 -0.267 -0.433 -0.087 -0.33  -0.344 -0.154  0.139]\n",
      " [ 0.306 -0.034  0.213 -0.281 -0.05   0.848  0.046  0.032  0.227 -0.07 ]\n",
      " [-0.357  0.316  0.092 -0.25   0.373  0.01   0.482 -0.409  0.237  0.326]\n",
      " [ 0.408  0.422 -0.376  0.457  0.299  0.141  0.18   0.299 -0.023  0.272]\n",
      " [-0.459  0.37   0.074  0.05  -0.497  0.095  0.33   0.508  0.021 -0.146]\n",
      " [ 0.51  -0.142  0.25  -0.369 -0.106 -0.355  0.531  0.222 -0.2    0.111]]\n",
      "\n",
      "Matriz R:\n",
      "[[ 19.621 -11.314  11.416  -9.53   17.226 -17.634   5.096 -13.2     8.154\n",
      "   -4.536]\n",
      " [  0.     15.684 -13.825   8.682  -0.389   0.095   4.505   2.528   3.97\n",
      "  -11.943]\n",
      " [  0.      0.      4.851  -2.302   3.291   0.54   10.535  -9.555   4.492\n",
      "    8.794]\n",
      " [  0.      0.      0.     11.726  -8.518   7.024   0.486   0.619   7.043\n",
      "    7.309]\n",
      " [  0.      0.      0.      0.      7.598  -7.259  -4.681   0.011  -2.2\n",
      "   -1.605]\n",
      " [  0.      0.      0.      0.      0.      9.312  -8.66   10.19  -12.72\n",
      "    7.882]\n",
      " [  0.      0.      0.      0.      0.      0.     13.213 -11.765   5.097\n",
      "  -11.089]\n",
      " [  0.      0.      0.      0.      0.      0.      0.      7.101  -9.889\n",
      "   -2.808]\n",
      " [  0.      0.      0.      0.      0.      0.      0.      0.      1.886\n",
      "   -2.169]\n",
      " [  0.      0.      0.      0.      0.      0.      0.      0.      0.\n",
      "    7.4  ]]\n",
      "\n",
      "¿Q @ R es aproximadamente igual a A?: True\n"
     ]
    }
   ],
   "source": [
    "import numpy as np\n",
    "\n",
    "def fact_qr(A):\n",
    "    A = np.array(A, dtype=float)  # Convertir a float para evitar errores de tipo\n",
    "    m, n = A.shape\n",
    "    Q = np.zeros((m, n))\n",
    "    R = np.zeros((n, n))\n",
    "\n",
    "    for j in range(n):\n",
    "        v = A[:, j]\n",
    "        for i in range(j):\n",
    "            R[i, j] = np.dot(Q[:, i], A[:, j])\n",
    "            v = v - R[i, j] * Q[:, i]\n",
    "        R[j, j] = np.linalg.norm(v)\n",
    "        if R[j, j] == 0:\n",
    "            raise ValueError(\"Las columnas de A son linealmente dependientes.\")\n",
    "        Q[:, j] = v / R[j, j]\n",
    "\n",
    "    return Q, R\n",
    "\n",
    "# Definición de la matriz A (10x10)\n",
    "A = np.array([\n",
    "    [2, -1, 3, 0, 1, -2, 4, -3, 5, 6],\n",
    "    [-3, 5, -2, 1, 3, 0, -1, 4, -6, 7],\n",
    "    [1, -2, 4, 5, -5, 7, 8, -9, 10, 11],\n",
    "    [-4, -3, 1, -2, -5, 6, -7, 8, -9, 10],\n",
    "    [5, 7, -6, 0, 3, -4, 2, -1, 6, -5],\n",
    "    [6, -4, 5, -7, 8, 1, -3, 2, -9, 4],\n",
    "    [-7, 9, -8, 3, -1, 2, 5, -4, 3, -6],\n",
    "    [8, 2, -3, 6, 4, -5, 0, 1, 2, -7],\n",
    "    [-9, 11, -10, 8, -12, 13, 6, 7, -5, -6],\n",
    "    [10, -8, 9, -11, 12, -14, 15, -18, 7, -9]\n",
    "])\n",
    "\n",
    "# Cálculo de la factorización QR\n",
    "Q, R = fact_qr(A)\n",
    "\n",
    "# Mostrar resultados con formato\n",
    "np.set_printoptions(precision=3, suppress=True)\n",
    "print(\"Matriz Q:\")\n",
    "print(Q)\n",
    "\n",
    "print(\"\\nMatriz R:\")\n",
    "print(R)\n",
    "\n",
    "# Verificación de que Q @ R ≈ A\n",
    "print(\"\\n¿Q @ R es aproximadamente igual a A?:\", np.allclose(Q @ R, A))\n"
   ]
  },
  {
   "cell_type": "markdown",
   "id": "e0c10dfc-7136-415f-9d55-f80db1fd7b8f",
   "metadata": {
    "kernel": "SoS"
   },
   "source": [
    "Pregunta3"
   ]
  },
  {
   "cell_type": "code",
   "execution_count": 7,
   "id": "b8636f9a-85b3-45bd-9a33-48404c642b9d",
   "metadata": {
    "kernel": "Octave"
   },
   "outputs": [],
   "source": [
    "% Funciones para el método de Jacobi\n",
    "\n",
    "% ---------------------------------------------------------\n",
    "% Calcula el ángulo theta entre los elementos i y j de la matriz simétrica A\n",
    "function theta = angulo(A, i, j)\n",
    "  if abs(A(i,i) - A(j,j)) > 1e-16\n",
    "    theta = 0.5 * atan( (2 * A(i,j)) / (A(i,i) - A(j,j)) );\n",
    "  else\n",
    "    theta = 0;\n",
    "  end\n",
    "end\n",
    "\n",
    "% ---------------------------------------------------------\n",
    "% Crea la matriz de rotación G correspondiente al ángulo theta\n",
    "% para los índices i y j, en una matriz de tamaño m x m\n",
    "function G = matriz_rotacion(i, j, m, theta)\n",
    "  G = eye(m);  % Matriz identidad\n",
    "\n",
    "  % Solo modificamos 4 entradas para construir G = I + Z\n",
    "  G(i,i) = cos(theta);\n",
    "  G(j,j) = cos(theta);\n",
    "  if i != j\n",
    "    G(i,j) = -sin(theta);\n",
    "    G(j,i) = sin(theta);\n",
    "  end\n",
    "end\n",
    "\n",
    "\n"
   ]
  },
  {
   "cell_type": "markdown",
   "id": "81b47f63-cb91-4085-85aa-60beab1e4fd2",
   "metadata": {
    "kernel": "SoS"
   },
   "source": [
    "**Pregunta 4.** En la lección del 6° de abril, se explicó el método iterativo de Gauss-Seidel para resolver sistemas de ecuaciones. Implemente en Python la función `gauss_seidel(A, b, x0, tol, max_iter)`, el cual recibe:\n",
    "\n",
    "- `A`: la matriz de coeficientes.\n",
    "- `b`: el vector del lado derecho.\n",
    "- `x0`: un vector inicial para la solución.\n",
    "- `tol`: tolerancia para el criterio de convergencia.\n",
    "- `max_iter`: número máximo de iteraciones.\n",
    "\n",
    "El método debe iterar hasta que se cumpla el criterio de convergencia:\n",
    "\n",
    "$$\n",
    "\\|Ax^{(k)} - b\\|_2 < \\text{tol}\n",
    "$$\n",
    "\n",
    "o se alcance el número máximo de iteraciones. Utilice dicha implementación computacional para resolver el sistema $Ax = b$, donde:\n",
    "\n",
    "- $A \\in \\mathbb{R}^{1000 \\times 1000}$ es una matriz definida como:\n",
    "\n",
    "$$\n",
    "A(i,j) = \\begin{cases}\n",
    "1001 & \\text{si } i = j \\\\\n",
    "1 & \\text{si } i \\ne j\n",
    "\\end{cases}\n",
    "$$\n",
    "\n",
    "- $b \\in \\mathbb{R}^{1000}$ es un vector columna tal que $b = (1, 1, \\dots, 1)^T \\in \\mathbb{R}^{1000}$.\n",
    "\n",
    "Al ejecutar la función `gauss_seidel`, se debe indicar solo el error final en la ventana de comandos.\n",
    "\n",
    "**Observación:** No se puede calcular la inversa de una matriz en la fórmula de Gauss-Seidel, sino resolver un sistema de ecuaciones usando sustitución hacia adelante, como se explicó en clases.\n"
   ]
  },
  {
   "cell_type": "code",
   "execution_count": null,
   "id": "3acebea3-236d-42b3-9226-b72f35a8c32e",
   "metadata": {
    "kernel": "SoS"
   },
   "outputs": [],
   "source": []
  },
  {
   "cell_type": "markdown",
   "id": "d3fd466a-09c1-4772-b2ea-91bd4ca1d0e8",
   "metadata": {
    "kernel": "SoS"
   },
   "source": [
    "**Pregunta 5.** Esta pregunta se divide en 4 sub-preguntas, las cuales tienen la finalidad de implementar computacionalmente en GNU Octave el método de Jacobi para aproximar los valores propios de una matriz simétrica.\n",
    "\n",
    "**a)** Implemente computacionalmente la función `theta = angulo(A, i, j)`, cuya salida es un número real `theta`, tal que:\n",
    "\n",
    "$$\n",
    "\\theta = \n",
    "\\begin{cases}\n",
    "\\frac{1}{2} \\tan^{-1} \\left( \\frac{2A(i,j)}{A(i,i) - A(j,j)} \\right), & \\text{si } |A(i,i) - A(j,j)| > 10^{-16} \\\\\n",
    "0, & \\text{si } |A(i,i) - A(j,j)| \\leq 10^{-16}\n",
    "\\end{cases}\n",
    "$$\n",
    "\n",
    "**b)** Implemente computacionalmente la función `G = matriz_rotacion(i, j, m, theta)`, cuya salida es una matriz \\( G \\in \\mathbb{R}^{m \\times m} \\), tal que:\n",
    "\n",
    "$$\n",
    "G = I_m + Z,\n",
    "$$\n",
    "\n",
    "donde $I_m \\in \\mathbb{R}^{m \\times m}$ es la matriz identidad, y $Z \\in \\mathbb{R}^{m \\times m}$ es una matriz nula, menos en las siguientes entradas:\n",
    "\n",
    "- $Z(i,i) = \\cos(\\text{theta}) - 1$\n",
    "- $Z(j,j) = \\cos(\\text{theta}) - 1$\n",
    "- $Z(i,j) = -\\sin(\\text{theta})$ (Solo se calcula si $i \\ne j$)\n",
    "- $Z(j,i) = \\sin(\\text{theta})$ (Solo se calcula si $i \\ne j$)\n",
    "\n",
    "**c)** Implemente computacionalmente la función:\n",
    "\n",
    "```octave\n",
    "[xk, ek] = jacobi_valores_propios(A, iterMax, tol)\n",
    "```\n",
    "\n",
    "el cual es el método de Jacobi para aproximar los valores propios de una matriz simétrica, donde:\n",
    "\n",
    "- `A` es una matriz simétrica de tamaño \\( m \\times m \\)\n",
    "- `iterMax` son las iteraciones máximas, y `tol` es la tolerancia\n",
    "- `xk` es un vector de tamaño \\( m \\) que tiene las aproximaciones de los valores propios de \\( A \\)\n",
    "- `ek` es el criterio de error definido como \\( ek = \\|x_{k+1} - x_k\\|_2 \\)\n",
    "\n",
    "El algoritmo del método de Jacobi se encuentra a continuación:\n",
    "\n",
    "---\n",
    "### Algoritmo 1: Método de Jacobi\n",
    "---\n",
    "\n",
    "**Entrada:**  \n",
    "$A \\in \\mathbb{R}^{m \\times m}$ simétrica, $\\text{iterMax} \\in \\{1, 2, \\dots\\}$, $\\text{tol} > 0$\n",
    "\n",
    "**Salida:**  \n",
    "$x_k \\in \\mathbb{R}^n$, $e_k > 0$\n",
    "\n",
    "```text\n",
    "1:  A₀ = A\n",
    "2:  x₀ = diag(A₀)\n",
    "3:  for k = 0, 1, …, iterMax do\n",
    "4:      Bₖ = Aₖ\n",
    "5:      for i = 1, 2, …, m do\n",
    "6:          for j = 1, 2, …, m do\n",
    "7:              θ = angulo(Bₖ, i, j)\n",
    "8:              G = matriz_rotacion(i, j, m, θ)\n",
    "9:              Bₖ = Gᵀ Bₖ G\n",
    "10:         end for\n",
    "11:     end for\n",
    "12:     Aₖ₊₁ = Bₖ\n",
    "13:     xₖ₊₁ = diag(Aₖ₊₁)\n",
    "14:     eₖ = ‖xₖ₊₁ - xₖ‖₂\n",
    "15:     if eₖ < tol then\n",
    "16:         k = k + 1\n",
    "17:         break\n",
    "18:     end if\n",
    "19: end for\n",
    "```\n",
    "\n",
    "---\n",
    "\n",
    "**Nota:** El Algoritmo 1 genera una sucesión de vectores $\\{x_k\\}_{k=0}^{\\infty}$ que converge a los valores propios de una matriz simétrica $A$.\n",
    "\n",
    "---\n",
    "\n",
    "**d)** En un archivo con nombre `prueba_jacobi`, aproxime los valores propios de la matriz simétrica $A \\in \\mathbb{R}^{15 \\times 15}$, donde $A(i,j) = 0.5(i + j)$, para todo $i,j = 1, 2, \\dots, 15$.  Para eso, utilice la función `jacobi_valores_propios` implementada en la pregunta anterior.  Cuando se ejecute este archivo, se debe imprimir en la ventana de comandos (consola) las salidas de la función `jacobi_valores_propios`.\n",
    "\n"
   ]
  },
  {
   "cell_type": "code",
   "execution_count": null,
   "id": "45ae4f37-8f78-4370-a781-38620e7b8fc6",
   "metadata": {
    "kernel": "SoS"
   },
   "outputs": [],
   "source": []
  }
 ],
 "metadata": {
  "kernelspec": {
   "display_name": "SoS",
   "language": "sos",
   "name": "sos"
  },
  "language_info": {
   "codemirror_mode": "sos",
   "file_extension": ".sos",
   "mimetype": "text/x-sos",
   "name": "sos",
   "nbconvert_exporter": "sos_notebook.converter.SoS_Exporter",
   "pygments_lexer": "sos"
  },
  "sos": {
   "kernels": [
    [
     "Octave",
     "octave",
     "Octave",
     "#dff8fb",
     ""
    ],
    [
     "Python 3 (ipykernel)",
     "python3",
     "python3",
     "",
     {
      "name": "ipython",
      "version": 3
     }
    ]
   ],
   "version": ""
  }
 },
 "nbformat": 4,
 "nbformat_minor": 5
}
